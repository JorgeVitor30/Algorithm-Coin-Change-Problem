{
 "cells": [
  {
   "cell_type": "markdown",
   "metadata": {},
   "source": [
    "# Projeto de Análise de Algoritmos\n",
    "######  Jorge Vitor de Aguiar Lima e Levy Stevam Queiroz da Silva"
   ]
  },
  {
   "cell_type": "markdown",
   "metadata": {},
   "source": [
    "### Problema de Troco de Moedas\n",
    "\n",
    "O problema do troco de moedas é um desafio de otimização que busca encontrar a combinação de moedas que totaliza um valor específico utilizando o menor número possível de moedas. Ele visa resolver questões práticas de troco em sistemas de pagamento, garantindo eficiência e precisão na entrega de valores corretos.\n",
    "\n",
    "\n",
    "\n",
    "\n",
    "\n"
   ]
  },
  {
   "cell_type": "markdown",
   "metadata": {},
   "source": [
    "### Objetivo\n",
    "\n",
    "O objetivo deste projeto é comparar dois algoritmos para resolver o problema de troco de moedas, utilizando abordagens diferentes de programação dinâmica. O problema será abordado por meio de duas soluções distintas: uma solução recursiva com memoização e uma solução iterativa. A comparação entre os algoritmos será baseada no tempo de execução médio, representado graficamente, com o eixo horizontal indicando o tamanho da entrada e o eixo vertical mostrando o tempo de execução."
   ]
  },
  {
   "cell_type": "markdown",
   "metadata": {},
   "source": [
    "## Algoritmos"
   ]
  },
  {
   "cell_type": "markdown",
   "metadata": {},
   "source": [
    "### Recursivo"
   ]
  },
  {
   "cell_type": "code",
   "execution_count": null,
   "metadata": {},
   "outputs": [],
   "source": [
    "def coin_exchange_rec(coinsList: list, change: int):\n",
    "\n",
    "    results = [0] * (change + 1)\n",
    "    count_coin = coin_exchange_aux(coinsList, change, results)\n",
    "\n",
    "    return count_coin\n",
    "\n",
    "\n",
    "\n",
    "def coin_exchange_aux(coinsList: list, change: int, results: list) -> int:\n",
    "    if change == 0:\n",
    "        return 0\n",
    "    \n",
    "    if change in coinsList:\n",
    "        return 1\n",
    "    \n",
    "    if results[change] > 0:\n",
    "        return results[change]\n",
    "    \n",
    "    min_coins = change\n",
    "\n",
    "    for coin in coinsList:\n",
    "        if coin <= change:\n",
    "            num_coins = 1 + coin_exchange_aux(coinsList, change - coin, results)\n",
    "            if num_coins < min_coins:\n",
    "                min_coins = num_coins\n",
    "    \n",
    "    results[change] = min_coins\n",
    "    return min_coins"
   ]
  },
  {
   "cell_type": "markdown",
   "metadata": {},
   "source": [
    "### Iterativo"
   ]
  },
  {
   "cell_type": "code",
   "execution_count": null,
   "metadata": {},
   "outputs": [],
   "source": [
    "def coin_exchange_iter(coinsList: list, change: int):\n",
    "    if change == 0:\n",
    "        return 0\n",
    "    \n",
    "    if change in coinsList:\n",
    "        return 1\n",
    "\n",
    "    results = [0] * (change + 1)\n",
    "\n",
    "    for unit in range(change+1):\n",
    "        num_coins = unit\n",
    "\n",
    "        for coin in coinsList:\n",
    "            if coin > unit:\n",
    "                continue\n",
    "\n",
    "            if 1 + results[unit - coin] < num_coins:\n",
    "                num_coins = results[unit - coin] + 1\n",
    "        results[unit] = num_coins\n",
    "    \n",
    "    return results[change]"
   ]
  },
  {
   "cell_type": "markdown",
   "metadata": {},
   "source": [
    "## Análises"
   ]
  },
  {
   "cell_type": "markdown",
   "metadata": {},
   "source": []
  }
 ],
 "metadata": {
  "kernelspec": {
   "display_name": "Python 3",
   "language": "python",
   "name": "python3"
  },
  "language_info": {
   "codemirror_mode": {
    "name": "ipython",
    "version": 3
   },
   "file_extension": ".py",
   "mimetype": "text/x-python",
   "name": "python",
   "nbconvert_exporter": "python",
   "pygments_lexer": "ipython3",
   "version": "3.10.12"
  }
 },
 "nbformat": 4,
 "nbformat_minor": 2
}
